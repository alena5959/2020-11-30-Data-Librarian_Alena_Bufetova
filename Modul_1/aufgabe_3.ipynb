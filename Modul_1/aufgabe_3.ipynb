{
 "cells": [
  {
   "cell_type": "code",
   "execution_count": 1,
   "metadata": {},
   "outputs": [],
   "source": [
    "import urllib.request\n",
    "import pandas as pd\n"
   ]
  },
  {
   "cell_type": "code",
   "execution_count": 7,
   "metadata": {},
   "outputs": [
    {
     "data": {
      "text/plain": [
       "('checkout.csv', <http.client.HTTPMessage at 0x7f3eb81c64c0>)"
      ]
     },
     "execution_count": 7,
     "metadata": {},
     "output_type": "execute_result"
    }
   ],
   "source": [
    "url = \"https://data.seattle.gov/resource/tmmm-ytt6.csv?$where=checkoutyear=2018&$limit=10000\"\n",
    "checkout_file = \"checkout.csv\"\n",
    "urllib.request.urlretrieve(url, checkout_file)"
   ]
  },
  {
   "cell_type": "code",
   "execution_count": 10,
   "metadata": {},
   "outputs": [],
   "source": [
    "checkouts_df = pd.read_csv(checkout_file)"
   ]
  },
  {
   "cell_type": "code",
   "execution_count": 11,
   "metadata": {},
   "outputs": [
    {
     "data": {
      "text/html": [
       "<div>\n",
       "<style scoped>\n",
       "    .dataframe tbody tr th:only-of-type {\n",
       "        vertical-align: middle;\n",
       "    }\n",
       "\n",
       "    .dataframe tbody tr th {\n",
       "        vertical-align: top;\n",
       "    }\n",
       "\n",
       "    .dataframe thead th {\n",
       "        text-align: right;\n",
       "    }\n",
       "</style>\n",
       "<table border=\"1\" class=\"dataframe\">\n",
       "  <thead>\n",
       "    <tr style=\"text-align: right;\">\n",
       "      <th></th>\n",
       "      <th>usageclass</th>\n",
       "      <th>checkouttype</th>\n",
       "      <th>materialtype</th>\n",
       "      <th>checkoutyear</th>\n",
       "      <th>checkoutmonth</th>\n",
       "      <th>checkouts</th>\n",
       "      <th>title</th>\n",
       "      <th>creator</th>\n",
       "      <th>subjects</th>\n",
       "      <th>publisher</th>\n",
       "      <th>publicationyear</th>\n",
       "    </tr>\n",
       "  </thead>\n",
       "  <tbody>\n",
       "    <tr>\n",
       "      <th>0</th>\n",
       "      <td>Digital</td>\n",
       "      <td>OverDrive</td>\n",
       "      <td>EBOOK</td>\n",
       "      <td>2018</td>\n",
       "      <td>1</td>\n",
       "      <td>22</td>\n",
       "      <td>Enemy of the State</td>\n",
       "      <td>Vince Flynn</td>\n",
       "      <td>Fiction, Literature, Thriller</td>\n",
       "      <td>Simon &amp; Schuster, Inc.</td>\n",
       "      <td>2017</td>\n",
       "    </tr>\n",
       "    <tr>\n",
       "      <th>1</th>\n",
       "      <td>Digital</td>\n",
       "      <td>Hoopla</td>\n",
       "      <td>TELEVISION</td>\n",
       "      <td>2018</td>\n",
       "      <td>1</td>\n",
       "      <td>1</td>\n",
       "      <td>Newspaper Mom / Cucumber in Rio / Donut Raffle</td>\n",
       "      <td>NaN</td>\n",
       "      <td>Children's</td>\n",
       "      <td>DHX Media</td>\n",
       "      <td>NaN</td>\n",
       "    </tr>\n",
       "    <tr>\n",
       "      <th>2</th>\n",
       "      <td>Physical</td>\n",
       "      <td>Horizon</td>\n",
       "      <td>SOUNDDISC</td>\n",
       "      <td>2018</td>\n",
       "      <td>1</td>\n",
       "      <td>1</td>\n",
       "      <td>Mono / the Mavericks.</td>\n",
       "      <td>Mavericks (Musical group)</td>\n",
       "      <td>Country music 2011 2020</td>\n",
       "      <td>Valory,</td>\n",
       "      <td>[2015]</td>\n",
       "    </tr>\n",
       "    <tr>\n",
       "      <th>3</th>\n",
       "      <td>Digital</td>\n",
       "      <td>OverDrive</td>\n",
       "      <td>EBOOK</td>\n",
       "      <td>2018</td>\n",
       "      <td>1</td>\n",
       "      <td>2</td>\n",
       "      <td>Anna Karenina</td>\n",
       "      <td>Leo Tolstoy</td>\n",
       "      <td>Classic Literature, Fiction, Literature</td>\n",
       "      <td>Penguin Group (USA), Inc.</td>\n",
       "      <td>2009</td>\n",
       "    </tr>\n",
       "    <tr>\n",
       "      <th>4</th>\n",
       "      <td>Digital</td>\n",
       "      <td>OverDrive</td>\n",
       "      <td>EBOOK</td>\n",
       "      <td>2018</td>\n",
       "      <td>1</td>\n",
       "      <td>1</td>\n",
       "      <td>Dragon: Vlad Series, Book 8</td>\n",
       "      <td>Steven Brust</td>\n",
       "      <td>Fantasy, Fiction</td>\n",
       "      <td>Macmillan Publishers</td>\n",
       "      <td>2015</td>\n",
       "    </tr>\n",
       "    <tr>\n",
       "      <th>...</th>\n",
       "      <td>...</td>\n",
       "      <td>...</td>\n",
       "      <td>...</td>\n",
       "      <td>...</td>\n",
       "      <td>...</td>\n",
       "      <td>...</td>\n",
       "      <td>...</td>\n",
       "      <td>...</td>\n",
       "      <td>...</td>\n",
       "      <td>...</td>\n",
       "      <td>...</td>\n",
       "    </tr>\n",
       "    <tr>\n",
       "      <th>9995</th>\n",
       "      <td>Digital</td>\n",
       "      <td>OverDrive</td>\n",
       "      <td>AUDIOBOOK</td>\n",
       "      <td>2018</td>\n",
       "      <td>1</td>\n",
       "      <td>1</td>\n",
       "      <td>Cooking for Picasso: A Novel (unabridged) (Una...</td>\n",
       "      <td>Camille Aubray</td>\n",
       "      <td>Fiction, Historical Fiction, Literature</td>\n",
       "      <td>Books on Tape</td>\n",
       "      <td>2016</td>\n",
       "    </tr>\n",
       "    <tr>\n",
       "      <th>9996</th>\n",
       "      <td>Digital</td>\n",
       "      <td>OverDrive</td>\n",
       "      <td>EBOOK</td>\n",
       "      <td>2018</td>\n",
       "      <td>1</td>\n",
       "      <td>1</td>\n",
       "      <td>The Book of Summer: A Novel</td>\n",
       "      <td>Michelle Gable</td>\n",
       "      <td>Fiction, Historical Fiction, Literature</td>\n",
       "      <td>Macmillan Publishers</td>\n",
       "      <td>2017</td>\n",
       "    </tr>\n",
       "    <tr>\n",
       "      <th>9997</th>\n",
       "      <td>Physical</td>\n",
       "      <td>Horizon</td>\n",
       "      <td>BOOK</td>\n",
       "      <td>2018</td>\n",
       "      <td>1</td>\n",
       "      <td>1</td>\n",
       "      <td>Revival / Stephen King.</td>\n",
       "      <td>King, Stephen, 1947-</td>\n",
       "      <td>Drug addicts Fiction, Clergy Fiction, Rock mus...</td>\n",
       "      <td>Thorndike Press,</td>\n",
       "      <td>2014.</td>\n",
       "    </tr>\n",
       "    <tr>\n",
       "      <th>9998</th>\n",
       "      <td>Physical</td>\n",
       "      <td>Horizon</td>\n",
       "      <td>BOOK</td>\n",
       "      <td>2018</td>\n",
       "      <td>1</td>\n",
       "      <td>4</td>\n",
       "      <td>Loula is leaving for Africa / written and illu...</td>\n",
       "      <td>Villeneuve, Anne, 1966-</td>\n",
       "      <td>Imagination Juvenile fiction, Chauffeurs Juven...</td>\n",
       "      <td>Kids Can Press,</td>\n",
       "      <td>[2013]</td>\n",
       "    </tr>\n",
       "    <tr>\n",
       "      <th>9999</th>\n",
       "      <td>Digital</td>\n",
       "      <td>OverDrive</td>\n",
       "      <td>AUDIOBOOK</td>\n",
       "      <td>2018</td>\n",
       "      <td>1</td>\n",
       "      <td>1</td>\n",
       "      <td>The Story About Ping (Unabridged)</td>\n",
       "      <td>Marjorie Flack</td>\n",
       "      <td>Juvenile Fiction</td>\n",
       "      <td>Weston Woods Studios Inc., a subsidiary of Sch...</td>\n",
       "      <td>2012</td>\n",
       "    </tr>\n",
       "  </tbody>\n",
       "</table>\n",
       "<p>10000 rows × 11 columns</p>\n",
       "</div>"
      ],
      "text/plain": [
       "     usageclass checkouttype materialtype  checkoutyear  checkoutmonth  \\\n",
       "0       Digital    OverDrive        EBOOK          2018              1   \n",
       "1       Digital       Hoopla   TELEVISION          2018              1   \n",
       "2      Physical      Horizon    SOUNDDISC          2018              1   \n",
       "3       Digital    OverDrive        EBOOK          2018              1   \n",
       "4       Digital    OverDrive        EBOOK          2018              1   \n",
       "...         ...          ...          ...           ...            ...   \n",
       "9995    Digital    OverDrive    AUDIOBOOK          2018              1   \n",
       "9996    Digital    OverDrive        EBOOK          2018              1   \n",
       "9997   Physical      Horizon         BOOK          2018              1   \n",
       "9998   Physical      Horizon         BOOK          2018              1   \n",
       "9999    Digital    OverDrive    AUDIOBOOK          2018              1   \n",
       "\n",
       "      checkouts                                              title  \\\n",
       "0            22                                 Enemy of the State   \n",
       "1             1     Newspaper Mom / Cucumber in Rio / Donut Raffle   \n",
       "2             1                              Mono / the Mavericks.   \n",
       "3             2                                      Anna Karenina   \n",
       "4             1                        Dragon: Vlad Series, Book 8   \n",
       "...         ...                                                ...   \n",
       "9995          1  Cooking for Picasso: A Novel (unabridged) (Una...   \n",
       "9996          1                        The Book of Summer: A Novel   \n",
       "9997          1                            Revival / Stephen King.   \n",
       "9998          4  Loula is leaving for Africa / written and illu...   \n",
       "9999          1                  The Story About Ping (Unabridged)   \n",
       "\n",
       "                        creator  \\\n",
       "0                   Vince Flynn   \n",
       "1                           NaN   \n",
       "2     Mavericks (Musical group)   \n",
       "3                   Leo Tolstoy   \n",
       "4                  Steven Brust   \n",
       "...                         ...   \n",
       "9995             Camille Aubray   \n",
       "9996             Michelle Gable   \n",
       "9997       King, Stephen, 1947-   \n",
       "9998    Villeneuve, Anne, 1966-   \n",
       "9999             Marjorie Flack   \n",
       "\n",
       "                                               subjects  \\\n",
       "0                         Fiction, Literature, Thriller   \n",
       "1                                            Children's   \n",
       "2                               Country music 2011 2020   \n",
       "3               Classic Literature, Fiction, Literature   \n",
       "4                                      Fantasy, Fiction   \n",
       "...                                                 ...   \n",
       "9995            Fiction, Historical Fiction, Literature   \n",
       "9996            Fiction, Historical Fiction, Literature   \n",
       "9997  Drug addicts Fiction, Clergy Fiction, Rock mus...   \n",
       "9998  Imagination Juvenile fiction, Chauffeurs Juven...   \n",
       "9999                                   Juvenile Fiction   \n",
       "\n",
       "                                              publisher publicationyear  \n",
       "0                                Simon & Schuster, Inc.            2017  \n",
       "1                                             DHX Media             NaN  \n",
       "2                                               Valory,          [2015]  \n",
       "3                             Penguin Group (USA), Inc.            2009  \n",
       "4                                  Macmillan Publishers            2015  \n",
       "...                                                 ...             ...  \n",
       "9995                                      Books on Tape            2016  \n",
       "9996                               Macmillan Publishers            2017  \n",
       "9997                                   Thorndike Press,           2014.  \n",
       "9998                                    Kids Can Press,          [2013]  \n",
       "9999  Weston Woods Studios Inc., a subsidiary of Sch...            2012  \n",
       "\n",
       "[10000 rows x 11 columns]"
      ]
     },
     "execution_count": 11,
     "metadata": {},
     "output_type": "execute_result"
    }
   ],
   "source": [
    "checkouts_df"
   ]
  },
  {
   "cell_type": "code",
   "execution_count": 12,
   "metadata": {},
   "outputs": [
    {
     "data": {
      "text/plain": [
       "(10000, 11)"
      ]
     },
     "execution_count": 12,
     "metadata": {},
     "output_type": "execute_result"
    }
   ],
   "source": [
    "checkouts_df.shape"
   ]
  },
  {
   "cell_type": "code",
   "execution_count": 13,
   "metadata": {},
   "outputs": [
    {
     "data": {
      "text/plain": [
       "array([ 1,  2,  3,  4,  5,  8,  9, 10, 11, 12])"
      ]
     },
     "execution_count": 13,
     "metadata": {},
     "output_type": "execute_result"
    }
   ],
   "source": [
    "# Result: Seem like we only have enties from December - maybe need to further increase the data set andt then subsample\n",
    "checkouts_df[\"checkoutmonth\"].unique()"
   ]
  },
  {
   "cell_type": "code",
   "execution_count": 14,
   "metadata": {},
   "outputs": [
    {
     "data": {
      "text/plain": [
       "540"
      ]
     },
     "execution_count": 14,
     "metadata": {},
     "output_type": "execute_result"
    }
   ],
   "source": [
    "checkouts_df[\"checkouts\"].max()"
   ]
  },
  {
   "cell_type": "code",
   "execution_count": 15,
   "metadata": {},
   "outputs": [
    {
     "data": {
      "text/plain": [
       "1"
      ]
     },
     "execution_count": 15,
     "metadata": {},
     "output_type": "execute_result"
    }
   ],
   "source": [
    "checkouts_df[\"checkouts\"].min()"
   ]
  },
  {
   "cell_type": "code",
   "execution_count": 16,
   "metadata": {},
   "outputs": [
    {
     "data": {
      "text/plain": [
       "1.0"
      ]
     },
     "execution_count": 16,
     "metadata": {},
     "output_type": "execute_result"
    }
   ],
   "source": [
    "checkouts_df[\"checkouts\"]. median()"
   ]
  },
  {
   "cell_type": "code",
   "execution_count": 17,
   "metadata": {},
   "outputs": [
    {
     "data": {
      "text/plain": [
       "3.339"
      ]
     },
     "execution_count": 17,
     "metadata": {},
     "output_type": "execute_result"
    }
   ],
   "source": [
    "checkouts_df[\"checkouts\"]. mean ()"
   ]
  },
  {
   "cell_type": "code",
   "execution_count": 18,
   "metadata": {},
   "outputs": [
    {
     "data": {
      "text/plain": [
       "array(['Digital', 'Physical'], dtype=object)"
      ]
     },
     "execution_count": 18,
     "metadata": {},
     "output_type": "execute_result"
    }
   ],
   "source": [
    "checkouts_df[\"usageclass\"]. unique ()"
   ]
  },
  {
   "cell_type": "code",
   "execution_count": 19,
   "metadata": {},
   "outputs": [
    {
     "data": {
      "text/plain": [
       "array(['EBOOK', 'TELEVISION', 'SOUNDDISC', 'BOOK', 'AUDIOBOOK', 'COMIC',\n",
       "       'MOVIE', 'SONG', 'MUSIC', 'MAGAZINE', 'VIDEODISC', 'SOUNDREC',\n",
       "       'SOUNDDISC, VIDEODISC', 'CR', 'LARGEPRINT', 'ER, SOUNDDISC',\n",
       "       'ATLAS', 'ER', 'MAP', 'VIDEOCASS, VIDEODISC', 'REGPRINT', 'VIDEO',\n",
       "       'SOUNDCASS', 'ER, VIDEODISC'], dtype=object)"
      ]
     },
     "execution_count": 19,
     "metadata": {},
     "output_type": "execute_result"
    }
   ],
   "source": [
    "checkouts_df[\"materialtype\"]. unique ()"
   ]
  },
  {
   "cell_type": "code",
   "execution_count": 25,
   "metadata": {},
   "outputs": [
    {
     "data": {
      "text/html": [
       "<div>\n",
       "<style scoped>\n",
       "    .dataframe tbody tr th:only-of-type {\n",
       "        vertical-align: middle;\n",
       "    }\n",
       "\n",
       "    .dataframe tbody tr th {\n",
       "        vertical-align: top;\n",
       "    }\n",
       "\n",
       "    .dataframe thead th {\n",
       "        text-align: right;\n",
       "    }\n",
       "</style>\n",
       "<table border=\"1\" class=\"dataframe\">\n",
       "  <thead>\n",
       "    <tr style=\"text-align: right;\">\n",
       "      <th></th>\n",
       "      <th>usageclass</th>\n",
       "      <th>checkouttype</th>\n",
       "      <th>materialtype</th>\n",
       "      <th>checkoutyear</th>\n",
       "      <th>checkoutmonth</th>\n",
       "      <th>checkouts</th>\n",
       "      <th>title</th>\n",
       "      <th>creator</th>\n",
       "      <th>subjects</th>\n",
       "      <th>publisher</th>\n",
       "      <th>publicationyear</th>\n",
       "    </tr>\n",
       "  </thead>\n",
       "  <tbody>\n",
       "    <tr>\n",
       "      <th>9</th>\n",
       "      <td>Digital</td>\n",
       "      <td>OverDrive</td>\n",
       "      <td>AUDIOBOOK</td>\n",
       "      <td>2018</td>\n",
       "      <td>2</td>\n",
       "      <td>1</td>\n",
       "      <td>Cleopatra (Unabridged)</td>\n",
       "      <td>H. Rider Haggard</td>\n",
       "      <td>Fiction, Literature</td>\n",
       "      <td>Blackstone Audio, Inc.</td>\n",
       "      <td>2008</td>\n",
       "    </tr>\n",
       "    <tr>\n",
       "      <th>12</th>\n",
       "      <td>Digital</td>\n",
       "      <td>OverDrive</td>\n",
       "      <td>AUDIOBOOK</td>\n",
       "      <td>2018</td>\n",
       "      <td>2</td>\n",
       "      <td>20</td>\n",
       "      <td>Matilda (Unabridged)</td>\n",
       "      <td>Roald Dahl</td>\n",
       "      <td>Fantasy, Juvenile Fiction</td>\n",
       "      <td>Books on Tape</td>\n",
       "      <td>2014</td>\n",
       "    </tr>\n",
       "    <tr>\n",
       "      <th>14</th>\n",
       "      <td>Digital</td>\n",
       "      <td>OverDrive</td>\n",
       "      <td>AUDIOBOOK</td>\n",
       "      <td>2018</td>\n",
       "      <td>2</td>\n",
       "      <td>4</td>\n",
       "      <td>The Power of Sleep (Unabridged)</td>\n",
       "      <td>Kelly Howell</td>\n",
       "      <td>Nonfiction, Self-Improvement</td>\n",
       "      <td>Books on Tape</td>\n",
       "      <td>2008</td>\n",
       "    </tr>\n",
       "    <tr>\n",
       "      <th>16</th>\n",
       "      <td>Digital</td>\n",
       "      <td>OverDrive</td>\n",
       "      <td>AUDIOBOOK</td>\n",
       "      <td>2018</td>\n",
       "      <td>2</td>\n",
       "      <td>3</td>\n",
       "      <td>Phantom Instinct (Unabridged)</td>\n",
       "      <td>Meg Gardiner</td>\n",
       "      <td>Fiction, Mystery</td>\n",
       "      <td>Blackstone Audio, Inc.</td>\n",
       "      <td>2014</td>\n",
       "    </tr>\n",
       "    <tr>\n",
       "      <th>39</th>\n",
       "      <td>Digital</td>\n",
       "      <td>OverDrive</td>\n",
       "      <td>AUDIOBOOK</td>\n",
       "      <td>2018</td>\n",
       "      <td>4</td>\n",
       "      <td>1</td>\n",
       "      <td>The Vaults (Unabridged)</td>\n",
       "      <td>Toby Ball</td>\n",
       "      <td>Fiction, Mystery</td>\n",
       "      <td>Iambik Audio</td>\n",
       "      <td>2014</td>\n",
       "    </tr>\n",
       "    <tr>\n",
       "      <th>...</th>\n",
       "      <td>...</td>\n",
       "      <td>...</td>\n",
       "      <td>...</td>\n",
       "      <td>...</td>\n",
       "      <td>...</td>\n",
       "      <td>...</td>\n",
       "      <td>...</td>\n",
       "      <td>...</td>\n",
       "      <td>...</td>\n",
       "      <td>...</td>\n",
       "      <td>...</td>\n",
       "    </tr>\n",
       "    <tr>\n",
       "      <th>9957</th>\n",
       "      <td>Digital</td>\n",
       "      <td>OverDrive</td>\n",
       "      <td>AUDIOBOOK</td>\n",
       "      <td>2018</td>\n",
       "      <td>1</td>\n",
       "      <td>12</td>\n",
       "      <td>Bluebird, Bluebird: Highway 59 Series, Book 1 ...</td>\n",
       "      <td>Attica Locke</td>\n",
       "      <td>Fiction, Mystery</td>\n",
       "      <td>Hachette Audio</td>\n",
       "      <td>2017</td>\n",
       "    </tr>\n",
       "    <tr>\n",
       "      <th>9963</th>\n",
       "      <td>Digital</td>\n",
       "      <td>OverDrive</td>\n",
       "      <td>AUDIOBOOK</td>\n",
       "      <td>2018</td>\n",
       "      <td>1</td>\n",
       "      <td>4</td>\n",
       "      <td>Dark Voyage: Night Soldiers Series, Book 8 (un...</td>\n",
       "      <td>Alan Furst</td>\n",
       "      <td>Fiction, Historical Fiction, Thriller</td>\n",
       "      <td>Simon &amp; Schuster - All Library</td>\n",
       "      <td>2017</td>\n",
       "    </tr>\n",
       "    <tr>\n",
       "      <th>9974</th>\n",
       "      <td>Digital</td>\n",
       "      <td>OverDrive</td>\n",
       "      <td>AUDIOBOOK</td>\n",
       "      <td>2018</td>\n",
       "      <td>1</td>\n",
       "      <td>3</td>\n",
       "      <td>Loving My Actual Life: An Experiment in Relish...</td>\n",
       "      <td>Alexandra Kuykendall</td>\n",
       "      <td>Nonfiction, Religion &amp; Spirituality</td>\n",
       "      <td>Tantor Media, Inc</td>\n",
       "      <td>2017</td>\n",
       "    </tr>\n",
       "    <tr>\n",
       "      <th>9995</th>\n",
       "      <td>Digital</td>\n",
       "      <td>OverDrive</td>\n",
       "      <td>AUDIOBOOK</td>\n",
       "      <td>2018</td>\n",
       "      <td>1</td>\n",
       "      <td>1</td>\n",
       "      <td>Cooking for Picasso: A Novel (unabridged) (Una...</td>\n",
       "      <td>Camille Aubray</td>\n",
       "      <td>Fiction, Historical Fiction, Literature</td>\n",
       "      <td>Books on Tape</td>\n",
       "      <td>2016</td>\n",
       "    </tr>\n",
       "    <tr>\n",
       "      <th>9999</th>\n",
       "      <td>Digital</td>\n",
       "      <td>OverDrive</td>\n",
       "      <td>AUDIOBOOK</td>\n",
       "      <td>2018</td>\n",
       "      <td>1</td>\n",
       "      <td>1</td>\n",
       "      <td>The Story About Ping (Unabridged)</td>\n",
       "      <td>Marjorie Flack</td>\n",
       "      <td>Juvenile Fiction</td>\n",
       "      <td>Weston Woods Studios Inc., a subsidiary of Sch...</td>\n",
       "      <td>2012</td>\n",
       "    </tr>\n",
       "  </tbody>\n",
       "</table>\n",
       "<p>861 rows × 11 columns</p>\n",
       "</div>"
      ],
      "text/plain": [
       "     usageclass checkouttype materialtype  checkoutyear  checkoutmonth  \\\n",
       "9       Digital    OverDrive    AUDIOBOOK          2018              2   \n",
       "12      Digital    OverDrive    AUDIOBOOK          2018              2   \n",
       "14      Digital    OverDrive    AUDIOBOOK          2018              2   \n",
       "16      Digital    OverDrive    AUDIOBOOK          2018              2   \n",
       "39      Digital    OverDrive    AUDIOBOOK          2018              4   \n",
       "...         ...          ...          ...           ...            ...   \n",
       "9957    Digital    OverDrive    AUDIOBOOK          2018              1   \n",
       "9963    Digital    OverDrive    AUDIOBOOK          2018              1   \n",
       "9974    Digital    OverDrive    AUDIOBOOK          2018              1   \n",
       "9995    Digital    OverDrive    AUDIOBOOK          2018              1   \n",
       "9999    Digital    OverDrive    AUDIOBOOK          2018              1   \n",
       "\n",
       "      checkouts                                              title  \\\n",
       "9             1                             Cleopatra (Unabridged)   \n",
       "12           20                               Matilda (Unabridged)   \n",
       "14            4                    The Power of Sleep (Unabridged)   \n",
       "16            3                      Phantom Instinct (Unabridged)   \n",
       "39            1                            The Vaults (Unabridged)   \n",
       "...         ...                                                ...   \n",
       "9957         12  Bluebird, Bluebird: Highway 59 Series, Book 1 ...   \n",
       "9963          4  Dark Voyage: Night Soldiers Series, Book 8 (un...   \n",
       "9974          3  Loving My Actual Life: An Experiment in Relish...   \n",
       "9995          1  Cooking for Picasso: A Novel (unabridged) (Una...   \n",
       "9999          1                  The Story About Ping (Unabridged)   \n",
       "\n",
       "                   creator                                 subjects  \\\n",
       "9         H. Rider Haggard                      Fiction, Literature   \n",
       "12              Roald Dahl                Fantasy, Juvenile Fiction   \n",
       "14            Kelly Howell             Nonfiction, Self-Improvement   \n",
       "16            Meg Gardiner                         Fiction, Mystery   \n",
       "39               Toby Ball                         Fiction, Mystery   \n",
       "...                    ...                                      ...   \n",
       "9957          Attica Locke                         Fiction, Mystery   \n",
       "9963            Alan Furst    Fiction, Historical Fiction, Thriller   \n",
       "9974  Alexandra Kuykendall      Nonfiction, Religion & Spirituality   \n",
       "9995        Camille Aubray  Fiction, Historical Fiction, Literature   \n",
       "9999        Marjorie Flack                         Juvenile Fiction   \n",
       "\n",
       "                                              publisher publicationyear  \n",
       "9                                Blackstone Audio, Inc.            2008  \n",
       "12                                        Books on Tape            2014  \n",
       "14                                        Books on Tape            2008  \n",
       "16                               Blackstone Audio, Inc.            2014  \n",
       "39                                         Iambik Audio            2014  \n",
       "...                                                 ...             ...  \n",
       "9957                                     Hachette Audio            2017  \n",
       "9963                     Simon & Schuster - All Library            2017  \n",
       "9974                                  Tantor Media, Inc            2017  \n",
       "9995                                      Books on Tape            2016  \n",
       "9999  Weston Woods Studios Inc., a subsidiary of Sch...            2012  \n",
       "\n",
       "[861 rows x 11 columns]"
      ]
     },
     "execution_count": 25,
     "metadata": {},
     "output_type": "execute_result"
    }
   ],
   "source": [
    "checkouts_df[checkouts_df[\"materialtype\"] == \"AUDIOBOOK\"]"
   ]
  },
  {
   "cell_type": "code",
   "execution_count": 26,
   "metadata": {},
   "outputs": [],
   "source": [
    "checkouts_audiobooks_df = checkouts_df[checkouts_df[\"materialtype\"] == \"AUDIOBOOK\"]"
   ]
  },
  {
   "cell_type": "code",
   "execution_count": 28,
   "metadata": {},
   "outputs": [
    {
     "data": {
      "text/plain": [
       "(861, 11)"
      ]
     },
     "execution_count": 28,
     "metadata": {},
     "output_type": "execute_result"
    }
   ],
   "source": [
    "checkouts_audiobooks_df.shape"
   ]
  },
  {
   "cell_type": "code",
   "execution_count": 30,
   "metadata": {},
   "outputs": [],
   "source": [
    "checkouts_audiobooks_df.to_csv(\"checkout_audio_books_only.csv\")"
   ]
  },
  {
   "cell_type": "code",
   "execution_count": 31,
   "metadata": {},
   "outputs": [],
   "source": [
    "checkouts_audiobooks_df.to_excel(\"checkout_audio_books_only.xlsx\")"
   ]
  },
  {
   "cell_type": "code",
   "execution_count": 32,
   "metadata": {},
   "outputs": [
    {
     "data": {
      "text/plain": [
       "BOOK                    4284\n",
       "EBOOK                   2088\n",
       "AUDIOBOOK                861\n",
       "SOUNDDISC                839\n",
       "VIDEODISC                806\n",
       "SONG                     693\n",
       "MUSIC                    134\n",
       "MOVIE                     95\n",
       "TELEVISION                81\n",
       "COMIC                     60\n",
       "SOUNDDISC, VIDEODISC      10\n",
       "MAGAZINE                  10\n",
       "SOUNDREC                   8\n",
       "REGPRINT                   7\n",
       "VIDEO                      5\n",
       "CR                         4\n",
       "MAP                        3\n",
       "ER                         3\n",
       "ER, SOUNDDISC              3\n",
       "ATLAS                      2\n",
       "SOUNDCASS                  1\n",
       "ER, VIDEODISC              1\n",
       "VIDEOCASS, VIDEODISC       1\n",
       "LARGEPRINT                 1\n",
       "Name: materialtype, dtype: int64"
      ]
     },
     "execution_count": 32,
     "metadata": {},
     "output_type": "execute_result"
    }
   ],
   "source": [
    "checkouts_df[\"materialtype\"].value_counts()"
   ]
  },
  {
   "cell_type": "code",
   "execution_count": 33,
   "metadata": {},
   "outputs": [],
   "source": [
    "%matplotlib inline"
   ]
  },
  {
   "cell_type": "code",
   "execution_count": 36,
   "metadata": {},
   "outputs": [
    {
     "data": {
      "text/plain": [
       "<AxesSubplot:>"
      ]
     },
     "execution_count": 36,
     "metadata": {},
     "output_type": "execute_result"
    },
    {
     "data": {
      "image/png": "[encoded data removed]",
      "text/plain": [
       "<Figure size 432x288 with 1 Axes>"
      ]
     },
     "metadata": {
      "needs_background": "light"
     },
     "output_type": "display_data"
    }
   ],
   "source": [
    "checkouts_df[\"materialtype\"].value_counts().plot (kind=\"bar\")"
   ]
  },
  {
   "cell_type": "code",
   "execution_count": 37,
   "metadata": {},
   "outputs": [
    {
     "data": {
      "text/plain": [
       "<AxesSubplot:>"
      ]
     },
     "execution_count": 37,
     "metadata": {},
     "output_type": "execute_result"
    },
    {
     "data": {
      "image/png": "[encoded data removed]",
      "text/plain": [
       "<Figure size 432x288 with 1 Axes>"
      ]
     },
     "metadata": {
      "needs_background": "light"
     },
     "output_type": "display_data"
    }
   ],
   "source": [
    "checkouts_df[\"materialtype\"].value_counts().plot (kind=\"barh\")"
   ]
  },
  {
   "cell_type": "code",
   "execution_count": 38,
   "metadata": {},
   "outputs": [
    {
     "data": {
      "text/plain": [
       "<AxesSubplot:>"
      ]
     },
     "execution_count": 38,
     "metadata": {},
     "output_type": "execute_result"
    },
    {
     "data": {
      "image/png": "[encoded data removed]",
      "text/plain": [
       "<Figure size 432x288 with 1 Axes>"
      ]
     },
     "metadata": {
      "needs_background": "light"
     },
     "output_type": "display_data"
    }
   ],
   "source": [
    "checkouts_df[\"checkouts\"].hist ()"
   ]
  },
  {
   "cell_type": "code",
   "execution_count": 40,
   "metadata": {},
   "outputs": [
    {
     "data": {
      "text/plain": [
       "<AxesSubplot:>"
      ]
     },
     "execution_count": 40,
     "metadata": {},
     "output_type": "execute_result"
    },
    {
     "data": {
      "image/png": "[encoded data removed]",
      "text/plain": [
       "<Figure size 432x288 with 1 Axes>"
      ]
     },
     "metadata": {
      "needs_background": "light"
     },
     "output_type": "display_data"
    }
   ],
   "source": [
    "checkouts_df[checkouts_df[\"checkouts\"] < 50][\"checkouts\"].hist(bins=20)"
   ]
  },
  {
   "cell_type": "code",
   "execution_count": null,
   "metadata": {},
   "outputs": [],
   "source": []
  }
 ],
 "metadata": {
  "kernelspec": {
   "display_name": "Python 3",
   "language": "python",
   "name": "python3"
  },
  "language_info": {
   "codemirror_mode": {
    "name": "ipython",
    "version": 3
   },
   "file_extension": ".py",
   "mimetype": "text/x-python",
   "name": "python",
   "nbconvert_exporter": "python",
   "pygments_lexer": "ipython3",
   "version": "3.8.5"
  }
 },
 "nbformat": 4,
 "nbformat_minor": 4
}
